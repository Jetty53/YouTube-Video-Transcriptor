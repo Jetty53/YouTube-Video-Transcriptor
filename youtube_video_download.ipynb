{
 "cells": [
  {
   "cell_type": "code",
   "execution_count": 1,
   "id": "81c91894",
   "metadata": {},
   "outputs": [],
   "source": [
    "from pytube import YouTube"
   ]
  },
  {
   "cell_type": "code",
   "execution_count": 2,
   "id": "7b6f7491",
   "metadata": {},
   "outputs": [],
   "source": [
    "link = \"https://www.youtube.com/watch?v=nP4Tgzq7Tx8\""
   ]
  },
  {
   "cell_type": "code",
   "execution_count": 3,
   "id": "f439a7a4",
   "metadata": {},
   "outputs": [],
   "source": [
    "video = YouTube(link, use_oauth=True, allow_oauth_cache=True)"
   ]
  },
  {
   "cell_type": "code",
   "execution_count": 4,
   "id": "00f8eafb",
   "metadata": {},
   "outputs": [
    {
     "data": {
      "text/plain": [
       "'https://i.ytimg.com/vi/nP4Tgzq7Tx8/sddefault.jpg'"
      ]
     },
     "execution_count": 4,
     "metadata": {},
     "output_type": "execute_result"
    }
   ],
   "source": [
    "video.thumbnail_url"
   ]
  },
  {
   "cell_type": "code",
   "execution_count": 5,
   "id": "44141f02",
   "metadata": {
    "scrolled": true
   },
   "outputs": [
    {
     "data": {
      "text/plain": [
       "'D:\\\\CodePracs\\\\Python\\\\video_audio_to_text\\\\What are Patanjalis SECRET Land Deals in Aravalli Hills (Hindi)  But Why.mp4'"
      ]
     },
     "execution_count": 5,
     "metadata": {},
     "output_type": "execute_result"
    }
   ],
   "source": [
    "# my_video = video.streams.get_highest_resolution()\n",
    "video.streams.filter(progressive = True, file_extension = 'mp4').order_by('resolution').desc().first().download()"
   ]
  },
  {
   "cell_type": "code",
   "execution_count": 6,
   "id": "7638ca13",
   "metadata": {
    "collapsed": true
   },
   "outputs": [
    {
     "ename": "NameError",
     "evalue": "name 'my_video' is not defined",
     "output_type": "error",
     "traceback": [
      "\u001b[1;31m---------------------------------------------------------------------------\u001b[0m",
      "\u001b[1;31mNameError\u001b[0m                                 Traceback (most recent call last)",
      "\u001b[1;32m~\\AppData\\Local\\Temp\\ipykernel_9440\\801080722.py\u001b[0m in \u001b[0;36m<module>\u001b[1;34m\u001b[0m\n\u001b[1;32m----> 1\u001b[1;33m \u001b[0mvideo_name\u001b[0m \u001b[1;33m=\u001b[0m \u001b[0mmy_video\u001b[0m\u001b[1;33m.\u001b[0m\u001b[0mdownload\u001b[0m\u001b[1;33m(\u001b[0m\u001b[1;33m)\u001b[0m\u001b[1;33m\u001b[0m\u001b[1;33m\u001b[0m\u001b[0m\n\u001b[0m",
      "\u001b[1;31mNameError\u001b[0m: name 'my_video' is not defined"
     ]
    }
   ],
   "source": [
    "video_name = my_video.download()"
   ]
  },
  {
   "cell_type": "code",
   "execution_count": 21,
   "id": "b3a5edf1",
   "metadata": {},
   "outputs": [
    {
     "data": {
      "text/plain": [
       "'D:\\\\CodePracs\\\\Python\\\\video-audio to text\\\\Build language translator with 3 lines of python code In Hindi.mp4'"
      ]
     },
     "execution_count": 21,
     "metadata": {},
     "output_type": "execute_result"
    }
   ],
   "source": [
    "video_name"
   ]
  },
  {
   "cell_type": "code",
   "execution_count": 13,
   "id": "e37d2fbb",
   "metadata": {},
   "outputs": [],
   "source": [
    "# my_audio = video.streams.get_audio_only()"
   ]
  },
  {
   "cell_type": "code",
   "execution_count": 30,
   "id": "9babd408",
   "metadata": {},
   "outputs": [
    {
     "data": {
      "text/plain": [
       "'D:\\\\CodePracs\\\\Python\\\\video-audio to text\\\\Icy Acres  The Longest Johns feat @katieskymusic.mp4'"
      ]
     },
     "execution_count": 30,
     "metadata": {},
     "output_type": "execute_result"
    }
   ],
   "source": [
    "# my_audio.download()"
   ]
  },
  {
   "cell_type": "code",
   "execution_count": null,
   "id": "329a1373",
   "metadata": {},
   "outputs": [],
   "source": []
  }
 ],
 "metadata": {
  "kernelspec": {
   "display_name": "Python 3 (ipykernel)",
   "language": "python",
   "name": "python3"
  },
  "language_info": {
   "codemirror_mode": {
    "name": "ipython",
    "version": 3
   },
   "file_extension": ".py",
   "mimetype": "text/x-python",
   "name": "python",
   "nbconvert_exporter": "python",
   "pygments_lexer": "ipython3",
   "version": "3.9.13"
  }
 },
 "nbformat": 4,
 "nbformat_minor": 5
}
